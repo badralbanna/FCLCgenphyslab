{
  "cells": [
    {
      "cell_type": "markdown",
      "source": [
        "# Regression Notebook"
      ],
      "metadata": {}
    },
    {
      "cell_type": "markdown",
      "source": [
        "This notebook automatically generates a linear fit and prints the fit paramaters (slope, y-intercept, and $R^2$) for a set of data. This notebook is meant to be useable even if you have no coding background (see the instructions below), but if you do or you are curious feel free to play around with it by editing the code. The notebook is organized in a set of \"code blocks\" that contain python code and can be run. Any output from the code appears below each block. The purpose of each block is described directly above the block. \n",
        "\n",
        "**To use this notebook:**\n",
        "\n",
        "1. Enter your data in the cell below under `Data entry.` `X` and `Y` represent the X and Y variable respectively, `X_ERR` and `Y_ERR` represent the absolute error in each of those variables. Each of these must be entered as a list of numbers seperated by `,` and surrounded by `[` and `]`. (e.g. `[0.2, 1.2, 3.4]`). \n",
        "2. You should also change the figure title using the `TITLE` variable and the labels for the axes using the `X_LABEL` and `Y_LABEL` variables (these are also under the `Data entry` section). Make sure to surround these by `\"` and `\"` (e.g. `speed (cm/s)`). \n",
        "3. Finally, if you would _not_ like the linear regression to run change the `REG_TYPE` variable from `\"linear\"` to `\"none\"`. \n",
        "4. From the menu above select `Cell > Run All.` (This is important, the `play` button only runs the current cell not the previous ones.)\n",
        "5. Scroll to the bottom of the page to find the parameters and a graph of your data & fit. Right click on the graph to download it to your computer. \n",
        "\n",
        "**What to do if the notebook hangs (doesn't run)**\n",
        "\n",
        "If you find the notebook doesn't do anything when you run all cells. Go to `Kernel > Restart Kernel...`. It should run fine after this point. If it doesn't, close the tab and restart. \n",
        "\n",
        "**How to save your data for future use**\n",
        "\n",
        "Every time you load this notebook, it will start fresh and there is no way to save it. Once you have your plot together correctly _you should save the contents of the `Data Entry` block to another doument (such as a Google Doc)_ so you can easily cut and paste it back in to this page to reproduce your plot. \n",
        "\n",
        "**Entering large/small numbers using scientific notation**\n",
        "\n",
        "Python understands scientific notation to enter values that are large/small (e.g. `7.6e-4` = $7.6 \\times 10^{-4}$)"
      ],
      "metadata": {}
    },
    {
      "cell_type": "markdown",
      "source": [
        "## Importing packages and defining models"
      ],
      "metadata": {}
    },
    {
      "cell_type": "markdown",
      "source": [
        "This cell imports the packages needed to run the regression. **No need to edit the cell below, just run it.** "
      ],
      "metadata": {}
    },
    {
      "cell_type": "code",
      "source": [
        "import numpy as np\n",
        "import matplotlib.pyplot as plt\n",
        "from scipy.odr import Model, RealData, ODR\n",
        "import random\n",
        "from scipy.stats import t as studentt"
      ],
      "outputs": [],
      "execution_count": 1,
      "metadata": {}
    },
    {
      "cell_type": "markdown",
      "source": [
        "## Data entry"
      ],
      "metadata": {}
    },
    {
      "cell_type": "markdown",
      "source": [
        "**The cell below is the one you need to edit and run.** Replace `X`, `Y`, `X_ERR`, `Y_ERR` to produce a fit with real data. Replace `X_LABEL` and `Y_LABEL` to set the labels for each variable.\n",
        "\n",
        "Use scientific notation to enter values that are large/small (e.g. `7.6e4` = $7.6 \\times 10^4$)"
      ],
      "metadata": {}
    },
    {
      "cell_type": "code",
      "source": [
        "# This variable sets the regression type. It should be 'none', 'linear', or 'quadratic'\n",
        "REG_TYPE = \"linear\"\n",
        "\n",
        "# Axes labels, change these to the appropriate names and don't forget to specify the units\n",
        "TITLE = \"Free fall exp. 1\"\n",
        "X_LABEL = \"distance (cm)\"\n",
        "Y_LABEL = \"speed (cm/s)\"\n",
        "\n",
        "# Enter the data\n",
        "# Replace X, Y, X_ERR, Y_ERR, with your real data, \n",
        "# X_ERR and Y_ERR are absolute error in X and Y resepctively\n",
        "X     = [0, 1, 2, 3, 4, 5]\n",
        "X_ERR = [.2, .2, .2, .2, .2, .2]\n",
        "Y     = [0.1, 2.0, 3.9, 6.3, 7.8, 10.2]\n",
        "Y_ERR = [.4, .4, .4, .4, .4, .4]\n",
        "\n",
        "\n",
        "for i in ['X', 'Y', 'X_ERR', 'Y_ERR']:\n",
        "    exec('{0} = np.array({0})'.format(i))"
      ],
      "outputs": [],
      "execution_count": 2,
      "metadata": {}
    },
    {
      "cell_type": "markdown",
      "source": [
        "## Run the regression"
      ],
      "metadata": {}
    },
    {
      "cell_type": "markdown",
      "source": [
        "Defining the models we would like to use. **No need to edit the cell below, just run it.** "
      ],
      "metadata": {}
    },
    {
      "cell_type": "code",
      "source": [
        "# Define a linear to fit the data.\n",
        "def linear_func(p, x):\n",
        "     m, b = p\n",
        "     return m*x + b\n",
        "\n",
        "# Define a quadratic function to fit the data.\n",
        "def quad_func(p, x):\n",
        "     a, b, c = p\n",
        "     return a*x**2 + b*x + c \n",
        "\n",
        "# Choose your model, no need to alter this\n",
        "if REG_TYPE == \"linear\":\n",
        "    MODEL = linear_func\n",
        "elif REG_TYPE == \"quadratic\":\n",
        "    MODEL = linear_func\n",
        "else:\n",
        "    MODEL = None"
      ],
      "outputs": [],
      "execution_count": 3,
      "metadata": {}
    },
    {
      "cell_type": "markdown",
      "source": [
        "The code box below executes the regression, prints the slope, y-intercept, and R^2 value, and generates a plot including the line of best fit. Right click the image generated to save it to your computer (it is in `.PNG` format). **No need to edit the cell below, just run it.** "
      ],
      "metadata": {}
    },
    {
      "cell_type": "code",
      "source": [
        "# Checking whether the data you entered has the same lengths\n",
        "try:\n",
        "    assert len(X) == len(Y)\n",
        "    assert len(X) == len(X_ERR)\n",
        "    assert len(Y) == len(Y_ERR)\n",
        "except:\n",
        "    print(\"data are not all the same length! You must fix for fit to work properly.\")\n",
        "    print(\"(length X = {0}, length X_ERR = {1}, length Y = {2}, length Y_ERR = {3})\".format(len(X), len(X_ERR), len(Y), len(Y_ERR)))\n",
        "    raise\n",
        "    \n",
        "if REG_TYPE != 'none':\n",
        "    # Create a model for fitting.\n",
        "    my_model = Model(MODEL)\n",
        "\n",
        "    # Create a RealData object using our initiated data from above.\n",
        "    data = RealData(X, Y, sx=X_ERR, sy=Y_ERR)\n",
        "\n",
        "    # Set up ODR with the model and data.\n",
        "    odr = ODR(data, my_model, beta0=[0., 1.])\n",
        "\n",
        "    # Run the regression.\n",
        "    out = odr.run()\n",
        "\n",
        "if REG_TYPE == 'linear':\n",
        "    # Calculating R^2 value \n",
        "    SSE_Y = np.sum(out.eps**2)\n",
        "    SSE_X = np.sum(out.delta**2)\n",
        "    SSTO_Y = np.sum((Y - np.mean(Y))**2)\n",
        "    SSTO_X = np.sum((X - np.mean(X))**2)\n",
        "    R2 = 1. - (SSE_X/SSTO_X) - (SSE_Y/SSTO_Y)\n",
        "    \n",
        "    # Converting to confidence interval \n",
        "    DOF = out.iwork[10]\n",
        "    t = studentt.interval(0.95,DOF)[1]\n",
        "    \n",
        "    # Use the in-built pprint method to give us results.\n",
        "    # out.pprint()\n",
        "    info = {'m': '{0: .3E} +/- {1:.3E}'.format(out.beta[0], t*out.sd_beta[0]), \n",
        "            'b': '{0: .3E} +/- {1:.3E}'.format(out.beta[1], t*out.sd_beta[1]),\n",
        "            'R2': '{0: .3f}'.format(R2)}\n",
        "    print('slope:\\t{m}\\ny-int:\\t{b}\\nR^2:\\t{R2}'.format(**info))\n",
        "\n",
        "# Setup the plot\n",
        "fig, ax = plt.subplots(figsize=(8,6))\n",
        "ax.grid()\n",
        "ax.set_title(TITLE, fontsize = 20)\n",
        "ax.set_xlabel(X_LABEL, fontsize = 16)\n",
        "ax.set_ylabel(Y_LABEL, fontsize = 16)\n",
        "ax.ticklabel_format(axis='both', style='sci', scilimits=(-2,2), useMathText=True)\n",
        "ax.tick_params(labelsize = 13)\n",
        "\n",
        "# Plot the data\n",
        "ax.errorbar(X, Y, xerr=X_ERR, yerr=Y_ERR, linestyle='None', marker='o', color='k')\n",
        "\n",
        "if REG_TYPE != 'none':\n",
        "    # Plot the linear fit and 95% confidence interval\n",
        "    x_range = np.max(X) - np.min(X)\n",
        "    x_fit = np.linspace(np.min(X) - .2 * x_range, np.max(X) + 0.2 * x_range, 1000)\n",
        "    y_fit = MODEL(out.beta, x_fit)\n",
        "    y_max = MODEL(out.beta + t*np.array([out.sd_beta[0], -out.sd_beta[1]]), x_fit)\n",
        "    y_min = MODEL(out.beta - t*np.array([out.sd_beta[0], -out.sd_beta[1]]), x_fit)\n",
        "    ax.plot(x_fit, y_fit)\n",
        "    ax.fill_between(x_fit, y_min, y_max, alpha=.2)\n",
        "\n",
        "plt.show()"
      ],
      "outputs": [
        {
          "output_type": "stream",
          "name": "stdout",
          "text": [
            "slope:\t 2.011E+00 +/- 1.384E-01\n",
            "y-int:\t 2.236E-02 +/- 4.190E-01\n",
            "R^2:\t 0.999\n"
          ]
        },
        {
          "output_type": "display_data",
          "data": {
            "text/plain": [
              "<Figure size 576x432 with 1 Axes>"
            ],
            "image/png": "[encoded data removed]"
          },
          "metadata": {
            "needs_background": "light"
          }
        }
      ],
      "execution_count": 5,
      "metadata": {}
    },
    {
      "cell_type": "markdown",
      "source": [
        "Note that the parameters listed above are in scientific notation. (e.g. `2.236E-02` =  $2.236 \\times 10^{-2}$)\n",
        "\n",
        "\n",
        "Right click on the image above to save it to your computer (It is in `.PNG` format). "
      ],
      "metadata": {}
    },
    {
      "cell_type": "markdown",
      "source": [],
      "metadata": {}
    }
  ],
  "metadata": {
    "kernel_info": {
      "name": "python3"
    },
    "kernelspec": {
      "name": "python3",
      "language": "python",
      "display_name": "Python3"
    },
    "language_info": {
      "name": "python",
      "version": "3.7.3",
      "mimetype": "text/x-python",
      "codemirror_mode": {
        "name": "ipython",
        "version": 3
      },
      "pygments_lexer": "ipython3",
      "nbconvert_exporter": "python",
      "file_extension": ".py"
    },
    "nteract": {
      "version": "0.15.0"
    },
    "toc": {
      "toc_position": {},
      "skip_h1_title": false,
      "number_sections": true,
      "title_cell": "Table of Contents",
      "toc_window_display": false,
      "base_numbering": 1,
      "toc_section_display": true,
      "title_sidebar": "Contents",
      "toc_cell": false,
      "nav_menu": {},
      "sideBar": true
    }
  },
  "nbformat": 4,
  "nbformat_minor": 2
}